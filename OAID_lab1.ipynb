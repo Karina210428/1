{
  "nbformat": 4,
  "nbformat_minor": 0,
  "metadata": {
    "colab": {
      "name": "Untitled (1).ipynb",
      "version": "0.3.2",
      "provenance": [],
      "collapsed_sections": [],
      "include_colab_link": true
    },
    "kernelspec": {
      "display_name": "Python 3",
      "language": "python",
      "name": "python3"
    }
  },
  "cells": [
    {
      "cell_type": "markdown",
      "metadata": {
        "id": "view-in-github",
        "colab_type": "text"
      },
      "source": [
        "[View in Colaboratory](https://colab.research.google.com/github/Karina210428/1/blob/master/OAID_lab1.ipynb)"
      ]
    },
    {
      "metadata": {
        "id": "LogNp1ElzmTU",
        "colab_type": "code",
        "colab": {}
      },
      "cell_type": "code",
      "source": [
        ""
      ],
      "execution_count": 0,
      "outputs": []
    },
    {
      "metadata": {
        "id": "_CyCmpUHzmTk",
        "colab_type": "code",
        "colab": {}
      },
      "cell_type": "code",
      "source": [
        "import numpy as np\n",
        "import time\n",
        "from timeit import default_timer as timer\n",
        "\n",
        "class Matrix(object):\n",
        "\n",
        "    def __init__(self, matrix):\n",
        "        if len(matrix)<2: \n",
        "          raise ValueError(\"Матрица не может иметь количество строк меньше, чем 2\")\n",
        "        if len(matrix[0])<2:\n",
        "          raise ValueErroe(\"Матрица не может иметь количество столбцов меньше, чем 2\")\n",
        "        self.matrix = matrix\n",
        "        self.Rows = len(self.matrix)\n",
        "        self.Colls = len(self.matrix[0])\n",
        "        \n",
        "    def size(self):\n",
        "        return (len(self.matrix), len(self.matrix[0]))\n",
        "    \n",
        "    def __getitem__(self, idx):\n",
        "        return self.matrix[idx]\n",
        "        \n",
        "    def __add__(self, other):\n",
        "        if self.Rows == other.Rows and self.Colls == other.Colls:\n",
        "            _matrix = list()\n",
        "            for i in range(self.Rows):\n",
        "              _matrix.append(list())\n",
        "              for j in range(self.Colls):\n",
        "                _matrix[i].append(self.matrix[i][j] + other.matrix[i][j])\n",
        "            return Matrix(_matrix)\n",
        "        else:\n",
        "            raise ValueError('Размерности не совпадают')\n",
        "    \n",
        "    def __mul__(self, other):\n",
        "        if self.Colls != other.Rows:\n",
        "            raise ValueError('Нельзя перемножить матрицы таких размерностей')\n",
        "        else:\n",
        "            _matrix = list()\n",
        "            for i in range(self.Rows):\n",
        "                _matrix.append(list())\n",
        "                for j in range(other.Colls):\n",
        "                    for k in range(self.Colls):\n",
        "                        _matrix[i].append(self.matrix[i][k] * other.matrix[k][j])\n",
        "            return Matrix(_matrix)\n"
      ],
      "execution_count": 0,
      "outputs": []
    },
    {
      "metadata": {
        "id": "hrLMWBabzmTv",
        "colab_type": "code",
        "colab": {
          "base_uri": "https://localhost:8080/",
          "height": 34
        },
        "outputId": "0c8fcefc-15af-4f59-9b3e-b26c6c698488"
      },
      "cell_type": "code",
      "source": [
        "start = timer()\n",
        "a = Matrix(np.random.rand(300, 300))\n",
        "b = Matrix(np.random.rand(300, 300))\n",
        "c = a*b\n",
        "end = timer()\n",
        "print(end - start)"
      ],
      "execution_count": 56,
      "outputs": [
        {
          "output_type": "stream",
          "text": [
            "21.018021111000053\n"
          ],
          "name": "stdout"
        }
      ]
    },
    {
      "metadata": {
        "id": "88pOi1irzmT_",
        "colab_type": "code",
        "colab": {
          "base_uri": "https://localhost:8080/",
          "height": 34
        },
        "outputId": "eb276be9-3d62-40c2-865d-b5b861a61a33"
      },
      "cell_type": "code",
      "source": [
        "start = timer()\n",
        "a = np.random.rand(300, 300)\n",
        "b = np.random.rand(300, 300)\n",
        "c = a*b\n",
        "end = timer()\n",
        "print(end - start)"
      ],
      "execution_count": 38,
      "outputs": [
        {
          "output_type": "stream",
          "text": [
            "0.36583021600017673\n"
          ],
          "name": "stdout"
        }
      ]
    },
    {
      "metadata": {
        "id": "SEiUMg26zmUI",
        "colab_type": "code",
        "colab": {}
      },
      "cell_type": "code",
      "source": [
        ""
      ],
      "execution_count": 0,
      "outputs": []
    }
  ]
}