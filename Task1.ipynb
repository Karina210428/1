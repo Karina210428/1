{
  "nbformat": 4,
  "nbformat_minor": 0,
  "metadata": {
    "colab": {
      "name": "Untitled10.ipynb",
      "version": "0.3.2",
      "provenance": [],
      "include_colab_link": true
    },
    "kernelspec": {
      "name": "python2",
      "display_name": "Python 2"
    }
  },
  "cells": [
    {
      "cell_type": "markdown",
      "metadata": {
        "id": "view-in-github",
        "colab_type": "text"
      },
      "source": [
        "<a href=\"https://colab.research.google.com/github/Karina210428/1/blob/master/Task1.ipynb\" target=\"_parent\"><img src=\"https://colab.research.google.com/assets/colab-badge.svg\" alt=\"Open In Colab\"/></a>"
      ]
    },
    {
      "metadata": {
        "id": "q8bfHS6ns8kv",
        "colab_type": "code",
        "colab": {
          "base_uri": "https://localhost:8080/",
          "height": 84
        },
        "outputId": "2ae1b85f-a605-4e05-b1d3-f328c8ae4e78"
      },
      "cell_type": "code",
      "source": [
        "import numpy as np \n",
        "import math \n",
        "\n",
        "x=np.array([[0,0,1], \n",
        "[0,1,1], \n",
        "[1,0,1], \n",
        "[1,1,1]]) \n",
        "y=np.array([[0],[1],[1],[1]]) \n",
        "\n",
        "weight=np.random.uniform(size=(3,1)) \n",
        "\n",
        "def sigmoid (x): \n",
        "  return 1/(1 + np.exp(-x)) \n",
        "\n",
        "\n",
        "def function_L(error,x): \n",
        "  L=(error**2)/(2 * len(x)) \n",
        "  return L \n",
        "\n",
        "output=sigmoid(np.dot(x,weight)) \n",
        "gradient=np.zeros((3,1)) \n",
        "#print(a) \n",
        "while np.all(function_L(output-y,x)>=0.00001): \n",
        "  a=(np.exp(-np.dot(x,weight))+1)**2 \n",
        "  b=y-sigmoid(np.dot(x,weight)) \n",
        "  gradient=-2*x.T.dot(np.exp(-np.dot(x,weight))*b/a) \n",
        "  weight=weight-0.25*gradient \n",
        "#print(output) \n",
        "  output=sigmoid(np.dot(x,weight))\n",
        "print(output)  \n",
        "  "
      ],
      "execution_count": 6,
      "outputs": [
        {
          "output_type": "stream",
          "text": [
            "[[0.24371311]\n",
            " [0.85653382]\n",
            " [0.85780216]\n",
            " [0.99113182]]\n"
          ],
          "name": "stdout"
        }
      ]
    }
  ]
}