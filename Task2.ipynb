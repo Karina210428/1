{
  "nbformat": 4,
  "nbformat_minor": 0,
  "metadata": {
    "colab": {
      "name": "Untitled9.ipynb",
      "version": "0.3.2",
      "provenance": [],
      "include_colab_link": true
    },
    "kernelspec": {
      "name": "python2",
      "display_name": "Python 2"
    }
  },
  "cells": [
    {
      "cell_type": "markdown",
      "metadata": {
        "id": "view-in-github",
        "colab_type": "text"
      },
      "source": [
        "<a href=\"https://colab.research.google.com/github/Karina210428/1/blob/master/Task2.ipynb\" target=\"_parent\"><img src=\"https://colab.research.google.com/assets/colab-badge.svg\" alt=\"Open In Colab\"/></a>"
      ]
    },
    {
      "metadata": {
        "id": "0vc9QUU50Kdc",
        "colab_type": "code",
        "colab": {}
      },
      "cell_type": "code",
      "source": [
        "class NeuralNetwork:\n",
        "    def __init__(self, x, y):\n",
        "        self.input      = x\n",
        "        self.weights1   = np.random.rand(self.input.shape[1],4) \n",
        "        self.weights2   = np.random.rand(4,1)                 \n",
        "        self.y          = y\n",
        "        self.output     = np.zeros(y.shape)\n",
        "        \n",
        "    def feedforward(self):\n",
        "        self.layer1 = sigmoid(np.dot(self.input, self.weights1))\n",
        "        self.output = sigmoid(np.dot(self.layer1, self.weights2))\n",
        "\n",
        "    def backprop(self):\n",
        "        d_weights2 = np.dot(self.layer1.T, (2*(self.y - self.output) * sigmoid_derivative(self.output)))\n",
        "        d_weights1 = np.dot(self.input.T,  (np.dot(2*(self.y - self.output) * sigmoid_derivative(self.output), self.weights2.T) * sigmoid_derivative(self.layer1)))\n",
        "\n",
        "        self.weights1 += d_weights1\n",
        "        self.weights2 += d_weights2        "
      ],
      "execution_count": 0,
      "outputs": []
    },
    {
      "metadata": {
        "id": "3FM_V_UQ1CeN",
        "colab_type": "code",
        "outputId": "7bf18a21-6368-45c1-c73a-d8aa2b1640e5",
        "colab": {
          "base_uri": "https://localhost:8080/",
          "height": 84
        }
      },
      "cell_type": "code",
      "source": [
        "import numpy as np\n",
        "import numpy as np\n",
        "import matplotlib.pyplot as plt\n",
        "%matplotlib inline\n",
        " \n",
        " \n",
        "def sigmoid(x):\n",
        "    return 1.0/(1+ np.exp(-x))\n",
        " \n",
        "def sigmoid_derivative(x):\n",
        "    return x * (1.0 - x)\n",
        " \n",
        "def compute_loss(y_hat, y):\n",
        "    return ((y_hat - y)**2).sum()\n",
        "  \n",
        "X = np.array([[0,0,1],\n",
        "              [0,1,1],\n",
        "              [1,0,1],\n",
        "              [1,1,1]])\n",
        "y = np.array([[0],[1],[1],[1]])\n",
        "nn = NeuralNetwork(X,y)\n",
        " \n",
        "loss_values = []\n",
        " \n",
        "while np.all(compute_loss(nn.output,y)>=0.00001):\n",
        "    nn.feedforward()\n",
        "    nn.backprop()\n",
        "    loss = compute_loss(nn.output, y)\n",
        "    loss_values.append(loss)\n",
        " \n",
        "print(nn.output)\n"
      ],
      "execution_count": 9,
      "outputs": [
        {
          "output_type": "stream",
          "text": [
            "[[0.00243572]\n",
            " [0.99857929]\n",
            " [0.99857263]\n",
            " [0.99989351]]\n"
          ],
          "name": "stdout"
        }
      ]
    }
  ]
}